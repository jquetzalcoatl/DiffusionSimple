{
 "cells": [
  {
   "cell_type": "code",
   "execution_count": 1,
   "id": "8e98249b",
   "metadata": {},
   "outputs": [],
   "source": [
    "using DelimitedFiles, DataFrames, CSV, Random\n",
    "using Plots"
   ]
  },
  {
   "cell_type": "code",
   "execution_count": 2,
   "id": "90cf16a3",
   "metadata": {},
   "outputs": [],
   "source": [
    "PATH = pwd() * \"/Results/Data/\"\n",
    "filenames = readdir(PATH);"
   ]
  },
  {
   "cell_type": "code",
   "execution_count": 5,
   "id": "7d681d68",
   "metadata": {},
   "outputs": [],
   "source": [
    "s = 24000;\n",
    "ChemFieldFiles = filenames[contains.(filenames, \"Chemical\")]\n",
    "SecretionFiles = filenames[contains.(filenames, \"Secretion\")]\n",
    "UptakeFiles = filenames[contains.(filenames, \"Uptake\")];"
   ]
  },
  {
   "cell_type": "code",
   "execution_count": 10,
   "id": "5151944a",
   "metadata": {},
   "outputs": [],
   "source": [
    "@assert size(unique(ChemFieldFiles),1) == s\n",
    "@assert size(unique(SecretionFiles),1) == s\n",
    "@assert size(unique(UptakeFiles),1) == s"
   ]
  },
  {
   "cell_type": "code",
   "execution_count": null,
   "id": "963785ed",
   "metadata": {},
   "outputs": [],
   "source": []
  },
  {
   "cell_type": "code",
   "execution_count": 37,
   "id": "195c0a15",
   "metadata": {},
   "outputs": [],
   "source": [
    "trIdx = (randperm(s) .- 1)[1:16000];\n",
    "idx = setdiff(0:s-1, trIdx);\n",
    "teIdx = shuffle(idx)[1:Int(0.5*size(idx,1))];\n",
    "valIdx = setdiff(idx, teIdx);\n",
    "@assert size(trIdx,1) == 16000\n",
    "@assert size(teIdx,1) == 4000\n",
    "@assert size(valIdx,1) == 4000\n",
    "@assert size(vcat(trIdx, teIdx, valIdx),1) == s\n",
    "@assert size(unique(vcat(trIdx, teIdx, valIdx)),1) == s"
   ]
  },
  {
   "cell_type": "code",
   "execution_count": 38,
   "id": "c3f9cf88",
   "metadata": {},
   "outputs": [],
   "source": [
    "trCSV = DataFrame(Chemical = [\"Chemical$(i).dat\" for i in trIdx], \n",
    "    Uptake = [\"Uptake$(i).dat\" for i in trIdx], Secretion = [\"Secretion$(i).dat\" for i in trIdx]);\n",
    "teCSV = DataFrame(Chemical = [\"Chemical$(i).dat\" for i in teIdx], \n",
    "    Uptake = [\"Uptake$(i).dat\" for i in teIdx], Secretion = [\"Secretion$(i).dat\" for i in teIdx]);\n",
    "valCSV = DataFrame(Chemical = [\"Chemical$(i).dat\" for i in valIdx], \n",
    "    Uptake = [\"Uptake$(i).dat\" for i in valIdx], Secretion = [\"Secretion$(i).dat\" for i in valIdx]);"
   ]
  },
  {
   "cell_type": "code",
   "execution_count": 39,
   "id": "2a7024a1",
   "metadata": {},
   "outputs": [],
   "source": [
    "CSV.write(PATH * \"train.csv\", trCSV);\n",
    "CSV.write(PATH * \"test.csv\", teCSV);\n",
    "CSV.write(PATH * \"val.csv\", valCSV);"
   ]
  },
  {
   "cell_type": "code",
   "execution_count": 40,
   "id": "68dd466b",
   "metadata": {},
   "outputs": [],
   "source": [
    "isdir(PATH * \"train\") || mkpath(PATH * \"train\")\n",
    "isdir(PATH * \"test\") || mkpath(PATH * \"test\")\n",
    "isdir(PATH * \"val\") || mkpath(PATH * \"val\")\n",
    "for i in 1:size(trIdx,1)\n",
    "    for j in 1:3\n",
    "        mv(PATH * trCSV[i,j], PATH * \"train/\" * trCSV[i,j])\n",
    "    end\n",
    "end\n",
    "for i in 1:size(teIdx,1)\n",
    "    for j in 1:3\n",
    "        mv(PATH * teCSV[i,j], PATH * \"test/\" * teCSV[i,j])\n",
    "    end\n",
    "end\n",
    "for i in 1:size(valIdx,1)\n",
    "    for j in 1:3\n",
    "        mv(PATH * valCSV[i,j], PATH * \"val/\" * valCSV[i,j])\n",
    "    end\n",
    "end"
   ]
  },
  {
   "cell_type": "code",
   "execution_count": null,
   "id": "b27c0b46",
   "metadata": {},
   "outputs": [],
   "source": []
  }
 ],
 "metadata": {
  "kernelspec": {
   "display_name": "Julia 1.7.1",
   "language": "julia",
   "name": "julia-1.7"
  },
  "language_info": {
   "file_extension": ".jl",
   "mimetype": "application/julia",
   "name": "julia",
   "version": "1.7.1"
  }
 },
 "nbformat": 4,
 "nbformat_minor": 5
}
